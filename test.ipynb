{
 "cells": [
  {
   "cell_type": "code",
   "execution_count": null,
   "metadata": {},
   "outputs": [
    {
     "name": "stdout",
     "output_type": "stream",
     "text": [
      "False\n"
     ]
    }
   ],
   "source": [
    "data = {\n",
    "  \"count\": 45466,\n",
    "  \"next\": \"http://127.0.0.1:8000/movies/?page=2\",\n",
    "  \"previous\": None,\n",
    "  \"results\": [\n",
    "    {\n",
    "      \"title\": \"Queerama\",\n",
    "      \"description\": \"50 years after decriminalisation of homosexuality in the UK, director Daisy Asquith mines the jewels of the BFI archive to take us into the relationships, desires, fears and expressions of gay men and women in the 20th century.\",\n",
    "      \"genres\": \"\",\n",
    "      \"uuid\": \"57baf4f4-c9ef-4197-9e4f-acf04eae5b4d\"\n",
    "    },\n",
    "    {\n",
    "      \"title\": \"Satana likuyushchiy\",\n",
    "      \"description\": \"In a small town live two brothers, one a minister and the other one a hunchback painter of the chapel who lives with his wife. One dreadful and stormy night, a stranger knocks at the door asking for shelter. The stranger talks about all the good things of the earthly life the minister is missing because of his puritanical faith. The minister comes to accept the stranger's viewpoint but it is others who will pay the consequences because the minister will discover the human pleasures thanks to, ehem, his sister- in -law… The tormented minister and his cuckolded brother will die in a strange accident in the chapel and later an infant will be born from the minister's adulterous relationship.\",\n",
    "      \"genres\": \"\",\n",
    "      \"uuid\": \"163ce013-03e2-47e9-8afd-e7de7688c151\"\n",
    "    },\n",
    "    {\n",
    "      \"title\": \"Betrayal\",\n",
    "      \"description\": \"When one of her hits goes wrong, a professional assassin ends up with a suitcase full of a million dollars belonging to a mob boss ...\",\n",
    "      \"genres\": \"Action,Drama,Thriller\",\n",
    "      \"uuid\": \"720e8796-5397-4e81-9bd7-763789463707\"\n",
    "    },\n",
    "    {\n",
    "      \"title\": \"Siglo ng Pagluluwal\",\n",
    "      \"description\": \"An artist struggles to finish his work while a storyline about a cult plays in his head.\",\n",
    "      \"genres\": \"Drama\",\n",
    "      \"uuid\": \"e9548ee7-6a95-4917-893e-1fa1d3a6de40\"\n",
    "    },\n",
    "    {\n",
    "      \"title\": \"رگ خواب\",\n",
    "      \"description\": \"Rising and falling between a man and woman.\",\n",
    "      \"genres\": \"Drama,Family\",\n",
    "      \"uuid\": \"9b0a4aa2-9ec7-4a3d-98ab-622275f44ea5\"\n",
    "    },\n",
    "    {\n",
    "      \"title\": \"Robin Hood\",\n",
    "      \"description\": \"Yet another version of the classic epic, with enough variation to make it interesting. The story is the same, but some of the characters are quite different from the usual, in particular Uma Thurman's very special maid Marian. The photography is also great, giving the story a somewhat darker tone.\",\n",
    "      \"genres\": \"Drama,Action,Romance\",\n",
    "      \"uuid\": \"73399935-2165-41f0-a6a4-1336ef5e5c20\"\n",
    "    },\n",
    "    {\n",
    "      \"title\": \"Caged Heat 3000\",\n",
    "      \"description\": \"It's the year 3000 AD. The world's most dangerous women are banished to a remote asteroid 45 million light years from earth. Kira Murphy doesn't belong; wrongfully accused of a crime she did not commit, she's thrown in this interplanetary prison and left to her own defenses. But Kira's a fighter, and soon she finds herself in the middle of a female gang war; where everyone wants a piece of the action... and a piece of her! \\\"Caged Heat 3000\\\" takes the Women-in-Prison genre to a whole new level... and a whole new galaxy!\",\n",
    "      \"genres\": \"Science Fiction\",\n",
    "      \"uuid\": \"129cf5d9-827c-4e42-843e-1f87ef99452f\"\n",
    "    },\n",
    "    {\n",
    "      \"title\": \"The Burkittsville 7\",\n",
    "      \"description\": \"A film archivist revisits the story of Rustin Parr, a hermit thought to have murdered seven children while under the possession of the Blair Witch.\",\n",
    "      \"genres\": \"Horror\",\n",
    "      \"uuid\": \"5e904ce8-91b7-42b4-84d9-5b53f4cb8c74\"\n",
    "    },\n",
    "    {\n",
    "      \"title\": \"Shadow of the Blair Witch\",\n",
    "      \"description\": \"In this true-crime documentary, we delve into the murder spree that was the inspiration for Joe Berlinger's \\\"Book of Shadows: Blair Witch 2\\\".\",\n",
    "      \"genres\": \"Mystery,Horror\",\n",
    "      \"uuid\": \"bcacfa33-a886-4ecb-a62a-6bbcb9d9509d\"\n",
    "    },\n",
    "    {\n",
    "      \"title\": \"House of Horrors\",\n",
    "      \"description\": \"An unsuccessful sculptor saves a madman named \\\"The Creeper\\\" from drowning. Seeing an opportunity for revenge, he tricks the psycho into murdering his critics.\",\n",
    "      \"genres\": \"Horror,Mystery,Thriller\",\n",
    "      \"uuid\": \"388c99da-0cba-4ff0-a528-faea153b43c3\"\n",
    "    }\n",
    "  ]\n",
    "}\n",
    "\n",
    "\n",
    "print(isinstance(data, dict))\n",
    "\n",
    "# for movie in data[\"results\"]:\n",
    "#     if movie[\"genres\"] is not None:\n",
    "#         movie[\"genres\"] = movie[\"genres\"].split(\",\")\n",
    "#     else:\n",
    "#         movie[\"genres\"] = []\n",
    "\n",
    "# print(data['results'])"
   ]
  }
 ],
 "metadata": {
  "kernelspec": {
   "display_name": "env",
   "language": "python",
   "name": "python3"
  },
  "language_info": {
   "codemirror_mode": {
    "name": "ipython",
    "version": 3
   },
   "file_extension": ".py",
   "mimetype": "text/x-python",
   "name": "python",
   "nbconvert_exporter": "python",
   "pygments_lexer": "ipython3",
   "version": "3.11.4"
  }
 },
 "nbformat": 4,
 "nbformat_minor": 2
}
